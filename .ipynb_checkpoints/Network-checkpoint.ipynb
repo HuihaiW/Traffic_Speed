{
 "cells": [
  {
   "cell_type": "code",
   "execution_count": 1,
   "id": "2b47303c",
   "metadata": {},
   "outputs": [],
   "source": [
    "import torch\n",
    "from torch_geometric.data import InMemoryDataset\n",
    "from torch_geometric.data import Data"
   ]
  },
  {
   "cell_type": "code",
   "execution_count": 3,
   "id": "06e863dd",
   "metadata": {},
   "outputs": [],
   "source": [
    "import os\n",
    "import pandas as pd\n",
    "import numpy as np\n",
    "import torch\n",
    "from torch.utils.data import Dataset, DataLoader"
   ]
  },
  {
   "cell_type": "code",
   "execution_count": 4,
   "id": "642a1aed",
   "metadata": {},
   "outputs": [],
   "source": [
    "import warnings\n",
    "warnings.filterwarnings(\"ignore\")"
   ]
  },
  {
   "cell_type": "markdown",
   "id": "e2e21172",
   "metadata": {},
   "source": [
    "### Data preprocessing"
   ]
  },
  {
   "cell_type": "code",
   "execution_count": 4,
   "id": "2a30cfcc",
   "metadata": {},
   "outputs": [],
   "source": [
    "import numpy as np\n",
    "import matplotlib.pyplot as plt\n",
    "import pandas as pd"
   ]
  },
  {
   "cell_type": "code",
   "execution_count": 13,
   "id": "c5085ab2",
   "metadata": {},
   "outputs": [],
   "source": [
    "edges_df = pd.read_excel(r'~/Downloads/Traffic Speed Prediction Street View Images/Adjacent_Matrix.xls')\n",
    "target = list(edges_df['TARGET_FID'])\n",
    "join = list(edges_df['JOIN_FID'])"
   ]
  },
  {
   "cell_type": "code",
   "execution_count": 16,
   "id": "e02e59b0",
   "metadata": {},
   "outputs": [],
   "source": [
    "features_df = pd.read_csv(r'~/Downloads/Traffic Speed Prediction Street View Images/Features.csv')\n",
    "feature_list = []\n",
    "for i in range(features_df.shape[0]):\n",
    "    feature = list(features_df.iloc[i][2: 367])\n",
    "    feature_list.append(feature)\n",
    "X_Image = torch.as_tensor(feature_list)"
   ]
  },
  {
   "cell_type": "code",
   "execution_count": 40,
   "id": "c6c5529a",
   "metadata": {},
   "outputs": [],
   "source": [
    "#Create traffic speed for each hour\n",
    "speed_df = pd.read_csv(r'~/Downloads/Traffic Speed Prediction Street View Images/Y_2.csv')\n",
    "speed_list = []\n",
    "for i in range(speed_df.shape[0]):\n",
    "    speed = list(speed_df.iloc[i][5:29])\n",
    "    speed_list.append(speed)\n",
    "Y = torch.as_tensor(speed_list)\n",
    "X_Speed = Y[:, :12]\n",
    "Y = Y[:, 12:]"
   ]
  },
  {
   "cell_type": "code",
   "execution_count": 42,
   "id": "e6c9b52c",
   "metadata": {},
   "outputs": [],
   "source": [
    "Mask_df = pd.read_csv(r'~/Downloads/Traffic Speed Prediction Street View Images/Y_2.csv')\n",
    "Train_Mask_list = list(Mask_df['Train_Mask'])\n",
    "Train_Mask = torch.as_tensor(Train_Mask_list)\n",
    "\n",
    "Val_Mask_list = list(Mask_df['Validation_Mask'])\n",
    "Val_Mask = torch.as_tensor(Val_Mask_list)\n",
    "\n",
    "Test_Mask_list = list(Mask_df['Test_Mask'])\n",
    "Test_Mask = torch.as_tensor(Test_Mask_list)"
   ]
  },
  {
   "cell_type": "code",
   "execution_count": null,
   "id": "8b6b147b",
   "metadata": {},
   "outputs": [],
   "source": []
  },
  {
   "cell_type": "markdown",
   "id": "369592e4",
   "metadata": {},
   "source": [
    "### Prepare Dataset"
   ]
  },
  {
   "cell_type": "code",
   "execution_count": 5,
   "id": "dc4a01e2",
   "metadata": {},
   "outputs": [],
   "source": [
    "from torch.utils.data import Dataset"
   ]
  },
  {
   "cell_type": "code",
   "execution_count": 7,
   "id": "18e0f640",
   "metadata": {},
   "outputs": [],
   "source": [
    "class TrafficSpeedDataset(Dataset):\n",
    "    def __init__(self, data_list, transform=None):\n",
    "        self.data = data_list\n",
    "        self.transform = transform\n",
    "        self.x\n",
    "        self.y\n",
    "    \n",
    "    def __len__(self):\n",
    "        return len(self.data)\n",
    "    \n",
    "    def __getitem__(self, idx):\n",
    "        if torch.is_tensor(idx):\n",
    "            idx = idx.tolist()\n",
    "        x\n",
    "        y\n",
    "        return x, y"
   ]
  },
  {
   "cell_type": "code",
   "execution_count": 9,
   "id": "9a457207",
   "metadata": {},
   "outputs": [],
   "source": [
    "training_dataloader = None\n",
    "test_dataloader = None"
   ]
  },
  {
   "cell_type": "markdown",
   "id": "18bf9bda",
   "metadata": {},
   "source": [
    "### Network Construction"
   ]
  },
  {
   "cell_type": "code",
   "execution_count": null,
   "id": "e8e2d529",
   "metadata": {},
   "outputs": [],
   "source": [
    "class Net(torch.nn.Module):\n",
    "    def __init__(self, time_number, LSTM_hidden):\n",
    "        super(Net, self).__init__()\n",
    "        self.time_number = time_number\n",
    "        self.LSTM_hidden = LSTM_hidden\n",
    "        self.num_layers = 4\n",
    "        \n",
    "        #graph part\n",
    "        self.conv1 = GCNConv()\n",
    "        self.conv2 = GCNConv()\n",
    "        self.conv3 = GCNConv()\n",
    "        \n",
    "        #Lstm part\n",
    "        self.lstm = nn.LSTM(\n",
    "            input_size = self.time_number,\n",
    "            hidden_size = self.LSTM_hidden,\n",
    "            num_layers = self.num_layers\n",
    "        )\n",
    "        \n",
    "        \n",
    "    \n",
    "    def forward(self, data):\n",
    "        pass"
   ]
  },
  {
   "cell_type": "markdown",
   "id": "f4f88045",
   "metadata": {},
   "source": [
    "### Training process"
   ]
  },
  {
   "cell_type": "code",
   "execution_count": null,
   "id": "25d3525f",
   "metadata": {},
   "outputs": [],
   "source": [
    "def train(train_dataloader, EPOCHS):\n",
    "    for e in range(EPOCHS):\n",
    "        pass\n",
    "def test(test_dataloader, model, optimizer):\n",
    "    pass\n"
   ]
  },
  {
   "cell_type": "code",
   "execution_count": null,
   "id": "d442e656",
   "metadata": {},
   "outputs": [],
   "source": [
    "device = torch.device('cuda')\n",
    "\n",
    "model = Net()\n",
    "model.to(device)\n",
    "\n",
    "learning_rate = 0.001\n",
    "loss_function = nn.MSELoss()\n",
    "optimizer = torch.optim.Adam(model.parameters(), lr=learning_rate)\n",
    "\n",
    "# Training\n",
    "train()\n",
    "test()"
   ]
  }
 ],
 "metadata": {
  "kernelspec": {
   "display_name": "Python 3 (ipykernel)",
   "language": "python",
   "name": "python3"
  },
  "language_info": {
   "codemirror_mode": {
    "name": "ipython",
    "version": 3
   },
   "file_extension": ".py",
   "mimetype": "text/x-python",
   "name": "python",
   "nbconvert_exporter": "python",
   "pygments_lexer": "ipython3",
   "version": "3.10.8"
  }
 },
 "nbformat": 4,
 "nbformat_minor": 5
}
